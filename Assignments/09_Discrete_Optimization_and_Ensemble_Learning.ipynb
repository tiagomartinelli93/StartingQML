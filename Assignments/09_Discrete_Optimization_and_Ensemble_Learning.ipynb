{
 "cells": [
  {
   "cell_type": "markdown",
   "metadata": {},
   "source": [
    "Before you begin, execute this cell to import numpy and packages from the D-Wave Ocean suite, and all necessary functions the gate-model framework you are going to use, whether that is the Forest SDK or Qiskit. In the case of Forest SDK, it also starts the qvm and quilc servers."
   ]
  },
  {
   "cell_type": "code",
   "execution_count": 1,
   "metadata": {
    "deletable": false,
    "editable": false,
    "nbgrader": {
     "grade": false,
     "locked": true,
     "solution": false
    }
   },
   "outputs": [
    {
     "name": "stdout",
     "output_type": "stream",
     "text": [
      "Available frameworks:\n",
      "Forest SDK\n",
      "Qiskit\n",
      "D-Wave Ocean\n"
     ]
    }
   ],
   "source": [
    "%run -i \"assignment_helper.py\""
   ]
  },
  {
   "cell_type": "markdown",
   "metadata": {},
   "source": [
    "# Loss Functions and Regularization\n",
    "\n",
    "Let's generate an easily, linearly separable dataset and shuffle it into a training set that we are going to optimize over (2/3 of the data), and a test set where we estimate our generalization performance. "
   ]
  },
  {
   "cell_type": "code",
   "execution_count": 2,
   "metadata": {
    "deletable": false,
    "editable": false,
    "nbgrader": {
     "grade": false,
     "locked": true,
     "solution": false
    }
   },
   "outputs": [
    {
     "data": {
      "image/png": "[encoded data removed]",
      "text/plain": [
       "<matplotlib.figure.Figure at 0x7f29ec789630>"
      ]
     },
     "metadata": {},
     "output_type": "display_data"
    }
   ],
   "source": [
    "import matplotlib.pyplot as plt\n",
    "import numpy as np\n",
    "np.random.seed(0)\n",
    "%matplotlib inline\n",
    "\n",
    "c1 = np.random.rand(50, 2)/5\n",
    "c2 = (-0.6, 0.5) + np.random.rand(50, 2)/5\n",
    "data = np.concatenate((c1, c2))\n",
    "labels = np.array([0] * 50 + [1] *50)\n",
    "plt.figure(figsize=(6, 6))\n",
    "plt.subplot(111, xticks=[], yticks=[])\n",
    "plt.scatter(data[:50, 0], data[:50, 1], color='navy')\n",
    "plt.scatter(data[50:, 0], data[50:, 1], color='c')\n",
    "idx = np.arange(len(labels))\n",
    "np.random.shuffle(idx)\n",
    "# train on a random 2/3 and test on the remaining 1/3\n",
    "idx_train = idx[:2*len(idx)//3]\n",
    "idx_test = idx[2*len(idx)//3:]\n",
    "X_train = data[idx_train]\n",
    "X_test = data[idx_test]\n",
    "y_train = labels[idx_train]\n",
    "y_test = labels[idx_test]"
   ]
  },
  {
   "cell_type": "code",
   "execution_count": 3,
   "metadata": {},
   "outputs": [
    {
     "name": "stdout",
     "output_type": "stream",
     "text": [
      "66\n",
      "34\n",
      "66\n",
      "34\n"
     ]
    }
   ],
   "source": [
    "print(len(X_train))\n",
    "print(len(X_test))\n",
    "\n",
    "print(len(y_train))\n",
    "print(len(y_test))"
   ]
  },
  {
   "cell_type": "markdown",
   "metadata": {},
   "source": [
    "**Exercise 1** (1 point). A multilayer perceptron is a simple neural network that is composed of perceptrons arranged in layers, mapping from some high-dimensional space to a number of classes. In scikit-learn, it minimizes the cross-entropy $L(\\theta, S) = -\\frac {1}{N}\\sum _{i=1}^N y_i \\log h(\\theta;x_i) + (1-y_i) \\log(1-h(\\theta;x_i))$, where our training set is $S=\\{(x_i, y_i)\\}_{i=1}^N$. Train one such network with default parameters. The model is called `MLPClassifier` in scikit-learn. Place the trained model in an object called `model`."
   ]
  },
  {
   "cell_type": "code",
   "execution_count": 4,
   "metadata": {},
   "outputs": [
    {
     "name": "stdout",
     "output_type": "stream",
     "text": [
      "accuracy (train):  1.00\n",
      "accuracy (test):  1.00\n"
     ]
    },
    {
     "name": "stderr",
     "output_type": "stream",
     "text": [
      "/usr/local/lib/python3.6/site-packages/sklearn/neural_network/multilayer_perceptron.py:562: ConvergenceWarning: Stochastic Optimizer: Maximum iterations (200) reached and the optimization hasn't converged yet.\n",
      "  % self.max_iter, ConvergenceWarning)\n"
     ]
    }
   ],
   "source": [
    "import sklearn\n",
    "import sklearn.metrics\n",
    "from sklearn.neural_network import MLPClassifier\n",
    "metric = sklearn.metrics.accuracy_score\n",
    "###\n",
    "model_1 = MLPClassifier()\n",
    "model_1.fit(X_train, y_train)\n",
    "print('accuracy (train): %5.2f'%(metric(y_train, model_1.predict(X_train))))\n",
    "print('accuracy (test): %5.2f'%(metric(y_test, model_1.predict(X_test))))\n",
    "###\n"
   ]
  },
  {
   "cell_type": "code",
   "execution_count": 5,
   "metadata": {
    "collapsed": true,
    "deletable": false,
    "editable": false,
    "nbgrader": {
     "grade": true,
     "grade_id": "exercise1",
     "locked": true,
     "points": "1",
     "solution": false
    }
   },
   "outputs": [],
   "source": [
    "assert isinstance(model_1, sklearn.neural_network.MLPClassifier)\n",
    "assert np.isclose(metric(y_train, model_1.predict(X_train)), 1.0)\n",
    "assert np.isclose(metric(y_test, model_1.predict(X_test)), 1.0)"
   ]
  },
  {
   "cell_type": "markdown",
   "metadata": {},
   "source": [
    "**Exercise 2** (2 points). The model can be regularized by an $l_2$ penalty term, which means that we can penalize it for having large weights in the connections between the perceptrons. For the model you trained, the sum of the square norms is the following:"
   ]
  },
  {
   "cell_type": "code",
   "execution_count": 6,
   "metadata": {},
   "outputs": [
    {
     "data": {
      "text/plain": [
       "5.170631029132808"
      ]
     },
     "execution_count": 6,
     "metadata": {},
     "output_type": "execute_result"
    }
   ],
   "source": [
    "sum(np.linalg.norm(coefs) for coefs in model_1.coefs_)"
   ]
  },
  {
   "cell_type": "markdown",
   "metadata": {},
   "source": [
    "The strength of the normalization depends on a hyperparameter `alpha` that you can supply when you instantiate the class. Train a heavily regularized version that will have a lower $l_2$ norm for the weights that maintains the training and test accuracy. Place the trained model in an object called `model_2`."
   ]
  },
  {
   "cell_type": "code",
   "execution_count": 7,
   "metadata": {
    "nbgrader": {
     "grade": false,
     "locked": false,
     "solution": false
    }
   },
   "outputs": [
    {
     "name": "stdout",
     "output_type": "stream",
     "text": [
      "accuracy (train):  1.00\n",
      "accuracy (test):  1.00\n"
     ]
    },
    {
     "name": "stderr",
     "output_type": "stream",
     "text": [
      "/usr/local/lib/python3.6/site-packages/sklearn/neural_network/multilayer_perceptron.py:562: ConvergenceWarning: Stochastic Optimizer: Maximum iterations (200) reached and the optimization hasn't converged yet.\n",
      "  % self.max_iter, ConvergenceWarning)\n"
     ]
    },
    {
     "data": {
      "text/plain": [
       "2.184300675400768"
      ]
     },
     "execution_count": 7,
     "metadata": {},
     "output_type": "execute_result"
    }
   ],
   "source": [
    "###\n",
    "model_2 = MLPClassifier(alpha=1e1)\n",
    "model_2.fit(X_train, y_train)\n",
    "print('accuracy (train): %5.2f'%(metric(y_train, model_2.predict(X_train))))\n",
    "print('accuracy (test): %5.2f'%(metric(y_test, model_2.predict(X_test))))\n",
    "###\n",
    "sum(np.linalg.norm(coefs) for coefs in model_2.coefs_)\n"
   ]
  },
  {
   "cell_type": "code",
   "execution_count": 8,
   "metadata": {
    "collapsed": true,
    "deletable": false,
    "editable": false,
    "nbgrader": {
     "grade": true,
     "grade_id": "exercise2",
     "locked": true,
     "points": "1",
     "solution": false
    }
   },
   "outputs": [],
   "source": [
    "assert isinstance(model_2, sklearn.neural_network.MLPClassifier)\n",
    "assert np.isclose(metric(y_train, model_2.predict(X_train)), 1.0)\n",
    "assert np.isclose(metric(y_test, model_2.predict(X_test)), 1.0)\n",
    "assert abs(sum(np.linalg.norm(coefs) for coefs in model_1.coefs_)-\n",
    "           sum(np.linalg.norm(coefs) for coefs in model_2.coefs_)) > 1"
   ]
  },
  {
   "cell_type": "markdown",
   "metadata": {},
   "source": [
    "In principle, a sparser model (in this case, one with lower $l_2$ norm) provides better guarantees for generalization beyond the training dataset."
   ]
  },
  {
   "cell_type": "markdown",
   "metadata": {},
   "source": [
    "# Ensemble methods\n",
    "\n",
    "Ensembles are all about combining diverse models into a single strong classifier. There are countless ways to construct ensembles. One way to ensure diversity is to train the same family of models, but on different subsets of the training data. This is known as [bagging](https://en.wikipedia.org/wiki/Bootstrap_aggregating) and it is a way of avoiding overfitting. You can combine bagging with other forms of ensembles to construct robust models.\n",
    "\n",
    "**Exercise 3** (1 point). Random forests do bagging: the algorithm trains many simple decision trees on various subsets of the training data, then averages their output to make predictions. Train a random forest on the above data to maximum accuracy with 20 trees in the ensemble. Place the trained model in an object called `model_3`."
   ]
  },
  {
   "cell_type": "code",
   "execution_count": 9,
   "metadata": {
    "ExecuteTime": {
     "end_time": "2019-01-30T23:03:32.276015Z",
     "start_time": "2019-01-30T23:03:31.837718Z"
    }
   },
   "outputs": [
    {
     "name": "stdout",
     "output_type": "stream",
     "text": [
      "accuracy (train):  1.00\n",
      "accuracy (test):  1.00\n"
     ]
    }
   ],
   "source": [
    "from sklearn.ensemble import RandomForestClassifier\n",
    "###\n",
    "model_3 = RandomForestClassifier(n_estimators=20)\n",
    "model_3.fit(X_train, y_train)\n",
    "print('accuracy (train): %5.2f'%(metric(y_train, model_3.predict(X_train))))\n",
    "print('accuracy (test): %5.2f'%(metric(y_test, model_3.predict(X_test))))\n",
    "###\n"
   ]
  },
  {
   "cell_type": "markdown",
   "metadata": {},
   "source": [
    "We generate a random dataset of two classes that form concentric circles:"
   ]
  },
  {
   "cell_type": "code",
   "execution_count": 10,
   "metadata": {
    "ExecuteTime": {
     "end_time": "2019-01-30T23:03:32.352090Z",
     "start_time": "2019-01-30T23:03:32.277645Z"
    },
    "collapsed": true,
    "deletable": false,
    "editable": false,
    "nbgrader": {
     "grade": true,
     "grade_id": "exercise3",
     "locked": true,
     "points": "1",
     "solution": false
    }
   },
   "outputs": [],
   "source": [
    "assert isinstance(model_3, sklearn.ensemble.RandomForestClassifier)\n",
    "assert model_3.n_estimators == 20\n",
    "assert np.isclose(metric(y_train, model_3.predict(X_train)), 1.0)\n",
    "assert np.isclose(metric(y_test, model_3.predict(X_test)), 1.0)"
   ]
  },
  {
   "cell_type": "markdown",
   "metadata": {},
   "source": [
    "# QBoost\n",
    "\n",
    "QBoost uses $l_0$ regularization to penalize the number of models in an ensemble and solves this as a discrete optimization problem. We will use the Swiss roll dataset in this section:"
   ]
  },
  {
   "cell_type": "code",
   "execution_count": 11,
   "metadata": {
    "ExecuteTime": {
     "end_time": "2019-01-30T23:03:32.405417Z",
     "start_time": "2019-01-30T23:03:32.403072Z"
    },
    "deletable": false,
    "editable": false,
    "nbgrader": {
     "grade": false,
     "locked": true,
     "solution": false
    }
   },
   "outputs": [
    {
     "data": {
      "image/png": "[encoded data removed]",
      "text/plain": [
       "<matplotlib.figure.Figure at 0x7f299a1b2f60>"
      ]
     },
     "metadata": {},
     "output_type": "display_data"
    }
   ],
   "source": [
    "import mpl_toolkits.mplot3d.axes3d as p3\n",
    "import sklearn.datasets\n",
    "np.random.seed(0)\n",
    "data, t = sklearn.datasets.make_swiss_roll(n_samples=500)\n",
    "labels = np.array(t<t.mean())\n",
    "idx = np.arange(len(labels))\n",
    "np.random.shuffle(idx)\n",
    "# train on a random 2/3 and test on the remaining 1/3\n",
    "idx_train = idx[:2*len(idx)//3]\n",
    "idx_test = idx[2*len(idx)//3:]\n",
    "X_train = data[idx_train]\n",
    "X_test = data[idx_test]\n",
    "\n",
    "y_train = 2 * labels[idx_train] - 1  # binary -> spin\n",
    "y_test = 2 * labels[idx_test] - 1\n",
    "\n",
    "scaler = sklearn.preprocessing.StandardScaler()\n",
    "normalizer = sklearn.preprocessing.Normalizer()\n",
    "\n",
    "X_train = scaler.fit_transform(X_train)\n",
    "X_train = normalizer.fit_transform(X_train)\n",
    "\n",
    "X_test = scaler.fit_transform(X_test)\n",
    "X_test = normalizer.fit_transform(X_test)\n",
    "fig = plt.figure()\n",
    "ax = p3.Axes3D(fig)\n",
    "ax.view_init(7, -80)\n",
    "for l in np.unique(labels):\n",
    "    ax.scatter(data[labels == l, 0], data[labels == l, 1], data[labels == l, 2])"
   ]
  },
  {
   "cell_type": "markdown",
   "metadata": {},
   "source": [
    "**Exercise 4** (1 point). Train a random forest of twenty trees on this dataset until you get accuracy 1 on the training set. You can ignore the accuracy on the test set. Call this `model_4`."
   ]
  },
  {
   "cell_type": "code",
   "execution_count": 12,
   "metadata": {
    "ExecuteTime": {
     "end_time": "2019-01-30T23:03:32.412993Z",
     "start_time": "2019-01-30T23:03:32.407859Z"
    }
   },
   "outputs": [
    {
     "name": "stdout",
     "output_type": "stream",
     "text": [
      "accuracy (train):  0.98\n",
      "accuracy (test):  0.81\n"
     ]
    }
   ],
   "source": [
    "###\n",
    "model_4 = RandomForestClassifier(n_estimators=20)\n",
    "model_4.fit(X_train, y_train)\n",
    "print('accuracy (train): %5.2f'%(metric(y_train, model_4.predict(X_train))))\n",
    "print('accuracy (test): %5.2f'%(metric(y_test, model_4.predict(X_test))))\n",
    "###\n"
   ]
  },
  {
   "cell_type": "code",
   "execution_count": 13,
   "metadata": {
    "collapsed": true,
    "deletable": false,
    "editable": false,
    "nbgrader": {
     "grade": true,
     "grade_id": "exercise4",
     "locked": true,
     "points": "1",
     "solution": false
    }
   },
   "outputs": [],
   "source": [
    "assert isinstance(model_4, sklearn.ensemble.RandomForestClassifier)\n",
    "assert model_4.n_estimators == 20\n",
    "assert np.isclose(metric(y_train, model_4.predict(X_train)), 1.0, rtol=0.1)"
   ]
  },
  {
   "cell_type": "markdown",
   "metadata": {},
   "source": [
    "Observe the gap between training and test accuracy:"
   ]
  },
  {
   "cell_type": "code",
   "execution_count": 14,
   "metadata": {},
   "outputs": [
    {
     "data": {
      "text/plain": [
       "0.17359874844904777"
      ]
     },
     "execution_count": 14,
     "metadata": {},
     "output_type": "execute_result"
    }
   ],
   "source": [
    "metric(y_train, model_4.predict(X_train)) - metric(y_test, model_4.predict(X_test))"
   ]
  },
  {
   "cell_type": "markdown",
   "metadata": {},
   "source": [
    "**Exercise 5** (2 points). The random forest as you trained it gives you a hundred weak estimators. Create a function that takes a numpy array of predictions over all weak estimators, the true labels, and a $\\lambda$ parameter for regularization, and returns a quadratic binary optimization of the QBoost objective function for dimod. Your return value is a weight matrix as a dictionary. You can assume that the prediction array's shape is the number of models times the number of training points."
   ]
  },
  {
   "cell_type": "code",
   "execution_count": 15,
   "metadata": {
    "ExecuteTime": {
     "end_time": "2019-01-30T23:03:32.420084Z",
     "start_time": "2019-01-30T23:03:32.414819Z"
    },
    "nbgrader": {
     "grade": false,
     "grade_id": "exercise5",
     "locked": false,
     "points": "2",
     "solution": false
    }
   },
   "outputs": [
    {
     "name": "stdout",
     "output_type": "stream",
     "text": [
      "[[2 2]\n",
      " [2 2]]\n",
      "[2 2]\n",
      "[-3 -3]\n",
      "[-2.5 -2.5]\n",
      "{(0, 0): -2, (0, 1): 2, (1, 1): -2}\n",
      "[6.5 6.5]\n",
      "{(0, 0): 6, (0, 1): 2, (1, 1): 6}\n"
     ]
    }
   ],
   "source": [
    "def get_qubo(predictions, y, λ):\n",
    "    \n",
    "    # #of weak estimators:\n",
    "    k = len(predictions)\n",
    "    \n",
    "    # #of X_train points:\n",
    "    l = len(predictions[0])\n",
    "    \n",
    "    # scale hij to [-1/k, 1/k]\n",
    "    #predictions = np.divide(predictions, k)\n",
    "    ### \n",
    "    w = np.dot(predictions, predictions.T) \n",
    "    wii = l/(k ** 2) - 2 * np.dot(predictions, y) + λ\n",
    "    print(wii)\n",
    "    w[np.diag_indices_from(w)] = wii\n",
    "    W = {}\n",
    "    for i in range(k):\n",
    "        for j in range(i, k):\n",
    "            W[(i, j)] = w[i, j]\n",
    "    \n",
    "    return W\n",
    "\n",
    "predictions_mytest = np.array([[-1,1],[-1,1]])\n",
    "y_mytest = [-1,1]\n",
    "λ = 1\n",
    "\n",
    "k = len(predictions_mytest)\n",
    "l = len(predictions_mytest[0])\n",
    "\n",
    "g = np.dot(predictions_mytest, predictions_mytest.T)\n",
    "gii = l//(k ** 2) - 2 * np.dot(predictions_mytest, y_mytest) + λ\n",
    "\n",
    "print(g)\n",
    "print(np.dot(predictions_mytest, y_mytest))\n",
    "print(gii)\n",
    "\n",
    "\n",
    "print(get_qubo(predictions_mytest, y_mytest, 1))\n",
    "print(get_qubo(predictions_mytest, y_mytest, 10))\n",
    "###"
   ]
  },
  {
   "cell_type": "code",
   "execution_count": 16,
   "metadata": {
    "deletable": false,
    "editable": false,
    "nbgrader": {
     "grade": true,
     "grade_id": "exercise5",
     "locked": true,
     "points": "2",
     "solution": false
    }
   },
   "outputs": [
    {
     "name": "stdout",
     "output_type": "stream",
     "text": [
      "[-2.5 -2.5]\n",
      "[6.5 6.5]\n"
     ]
    }
   ],
   "source": [
    "predictions = np.array([[-1, 1], [-1, 1]])\n",
    "y = [-1, 1]\n",
    "assert get_qubo(predictions, y, 1) == {(0, 0): -2, (0, 1): 2, (1, 1): -2}\n",
    "assert get_qubo(predictions, y, 10) == {(0, 0): 6, (0, 1): 2, (1, 1): 6}"
   ]
  },
  {
   "cell_type": "markdown",
   "metadata": {},
   "source": [
    "Note that the random forest model always predicts 0 or 1 for the individiual weak estimators, so we shift its prediction output to match our spin model."
   ]
  },
  {
   "cell_type": "code",
   "execution_count": 17,
   "metadata": {
    "deletable": false,
    "editable": false,
    "nbgrader": {
     "grade": false,
     "locked": true,
     "solution": false
    }
   },
   "outputs": [
    {
     "data": {
      "text/plain": [
       "array([[ 1., -1.,  1., ..., -1.,  1., -1.],\n",
       "       [ 1., -1.,  1., ..., -1.,  1., -1.],\n",
       "       [ 1.,  1.,  1., ..., -1.,  1., -1.],\n",
       "       ...,\n",
       "       [ 1., -1.,  1., ..., -1.,  1., -1.],\n",
       "       [ 1.,  1.,  1., ..., -1.,  1., -1.],\n",
       "       [ 1., -1.,  1., ..., -1.,  1., -1.]])"
      ]
     },
     "execution_count": 17,
     "metadata": {},
     "output_type": "execute_result"
    }
   ],
   "source": [
    "predictions = 2*np.array([h.predict(X_train) for h in model_4.estimators_], dtype=np.float64)-1\n",
    "predictions"
   ]
  },
  {
   "cell_type": "code",
   "execution_count": 18,
   "metadata": {},
   "outputs": [
    {
     "name": "stdout",
     "output_type": "stream",
     "text": [
      "20\n",
      "333\n"
     ]
    }
   ],
   "source": [
    "print(len(predictions))\n",
    "print(len(predictions[0]))"
   ]
  },
  {
   "cell_type": "markdown",
   "metadata": {},
   "source": [
    "**Exercise 6** (3 points). Using simulated annealing, find a value for the $\\lambda$ parameter that reduces the number of trees used while maintaining the accuracy on the training set. The return value of the sampler should be in an object called `response`. You can use the following function to calculate the prediction of your ensemble:"
   ]
  },
  {
   "cell_type": "code",
   "execution_count": 19,
   "metadata": {
    "collapsed": true,
    "deletable": false,
    "editable": false,
    "nbgrader": {
     "grade": false,
     "locked": true,
     "solution": false
    }
   },
   "outputs": [],
   "source": [
    "def predict(models, weights, X):\n",
    "    n_data = len(X)\n",
    "    T = 0\n",
    "    y = np.zeros(n_data)\n",
    "    for i, h in enumerate(models):\n",
    "        y0 = weights[i] * (2*h.predict(X)-1)  # prediction of weak classifier\n",
    "        y += y0\n",
    "        T += np.sum(y0)\n",
    "    y = np.sign(y - T / (n_data*len(models)))\n",
    "    return y"
   ]
  },
  {
   "cell_type": "code",
   "execution_count": null,
   "metadata": {},
   "outputs": [
    {
     "name": "stdout",
     "output_type": "stream",
     "text": [
      "[0.84232938 0.84233438 0.84232563 0.84232063 0.84233563 0.84233563\n",
      " 0.84234813 0.84234688 0.84233938 0.84232938 0.84233062 0.84233188\n",
      " 0.84233687 0.84234688 0.84232438 0.84235063 0.84233687 0.84232812\n",
      " 0.84233313 0.84233438]\n",
      "[0.85232938 0.85233438 0.85232563 0.85232063 0.85233563 0.85233563\n",
      " 0.85234813 0.85234688 0.85233938 0.85232938 0.85233063 0.85233188\n",
      " 0.85233687 0.85234688 0.85232438 0.85235063 0.85233687 0.85232812\n",
      " 0.85233313 0.85233438]\n",
      "[0.86232938 0.86233438 0.86232563 0.86232063 0.86233563 0.86233563\n",
      " 0.86234813 0.86234688 0.86233938 0.86232938 0.86233063 0.86233188\n",
      " 0.86233688 0.86234688 0.86232438 0.86235063 0.86233688 0.86232813\n",
      " 0.86233313 0.86233438]\n",
      "[0.87232938 0.87233438 0.87232563 0.87232063 0.87233563 0.87233563\n",
      " 0.87234813 0.87234688 0.87233938 0.87232938 0.87233063 0.87233188\n",
      " 0.87233688 0.87234688 0.87232438 0.87235063 0.87233688 0.87232813\n",
      " 0.87233313 0.87233438]\n",
      "[0.88232938 0.88233438 0.88232563 0.88232063 0.88233563 0.88233563\n",
      " 0.88234813 0.88234688 0.88233938 0.88232938 0.88233063 0.88233188\n",
      " 0.88233688 0.88234688 0.88232438 0.88235063 0.88233688 0.88232813\n",
      " 0.88233313 0.88233438]\n",
      "[0.89232938 0.89233438 0.89232563 0.89232063 0.89233563 0.89233563\n",
      " 0.89234813 0.89234688 0.89233938 0.89232938 0.89233063 0.89233188\n",
      " 0.89233688 0.89234688 0.89232438 0.89235063 0.89233688 0.89232813\n",
      " 0.89233313 0.89233438]\n",
      "[0.90232938 0.90233438 0.90232563 0.90232062 0.90233563 0.90233563\n",
      " 0.90234813 0.90234688 0.90233937 0.90232938 0.90233063 0.90233188\n",
      " 0.90233688 0.90234688 0.90232438 0.90235062 0.90233688 0.90232812\n",
      " 0.90233312 0.90233438]\n",
      "[0.91232937 0.91233438 0.91232563 0.91232062 0.91233562 0.91233562\n",
      " 0.91234812 0.91234688 0.91233937 0.91232937 0.91233062 0.91233188\n",
      " 0.91233687 0.91234688 0.91232437 0.91235062 0.91233687 0.91232812\n",
      " 0.91233312 0.91233438]\n",
      "[0.92232938 0.92233438 0.92232563 0.92232063 0.92233562 0.92233562\n",
      " 0.92234812 0.92234688 0.92233937 0.92232938 0.92233062 0.92233188\n",
      " 0.92233687 0.92234688 0.92232437 0.92235062 0.92233687 0.92232812\n",
      " 0.92233312 0.92233438]\n",
      "[0.93232938 0.93233438 0.93232563 0.93232063 0.93233563 0.93233563\n",
      " 0.93234812 0.93234688 0.93233937 0.93232938 0.93233062 0.93233188\n",
      " 0.93233687 0.93234688 0.93232437 0.93235062 0.93233687 0.93232812\n",
      " 0.93233312 0.93233438]\n",
      "[0.94232938 0.94233438 0.94232563 0.94232063 0.94233563 0.94233563\n",
      " 0.94234812 0.94234688 0.94233937 0.94232938 0.94233062 0.94233188\n",
      " 0.94233687 0.94234688 0.94232437 0.94235062 0.94233687 0.94232812\n",
      " 0.94233312 0.94233438]\n",
      "[0.95232938 0.95233438 0.95232563 0.95232063 0.95233563 0.95233563\n",
      " 0.95234812 0.95234688 0.95233937 0.95232938 0.95233062 0.95233188\n",
      " 0.95233687 0.95234688 0.95232438 0.95235063 0.95233687 0.95232812\n",
      " 0.95233313 0.95233438]\n",
      "[0.96232938 0.96233438 0.96232563 0.96232063 0.96233563 0.96233563\n",
      " 0.96234812 0.96234688 0.96233937 0.96232938 0.96233062 0.96233188\n",
      " 0.96233687 0.96234688 0.96232438 0.96235063 0.96233687 0.96232812\n",
      " 0.96233313 0.96233438]\n",
      "[0.97232938 0.97233438 0.97232563 0.97232063 0.97233563 0.97233563\n",
      " 0.97234813 0.97234688 0.97233938 0.97232938 0.97233063 0.97233188\n",
      " 0.97233687 0.97234688 0.97232438 0.97235063 0.97233687 0.97232812\n",
      " 0.97233313 0.97233438]\n",
      "[0.98232938 0.98233438 0.98232563 0.98232063 0.98233563 0.98233563\n",
      " 0.98234813 0.98234688 0.98233938 0.98232938 0.98233063 0.98233188\n",
      " 0.98233687 0.98234688 0.98232438 0.98235063 0.98233687 0.98232812\n",
      " 0.98233313 0.98233438]\n",
      "[0.99232938 0.99233438 0.99232563 0.99232063 0.99233563 0.99233563\n",
      " 0.99234813 0.99234688 0.99233938 0.99232938 0.99233063 0.99233188\n",
      " 0.99233688 0.99234688 0.99232438 0.99235063 0.99233688 0.99232813\n",
      " 0.99233313 0.99233438]\n",
      "[1.00232937 1.00233437 1.00232563 1.00232063 1.00233562 1.00233562\n",
      " 1.00234812 1.00234687 1.00233938 1.00232937 1.00233062 1.00233188\n",
      " 1.00233687 1.00234687 1.00232437 1.00235063 1.00233687 1.00232813\n",
      " 1.00233313 1.00233437]\n",
      "[1.01232937 1.01233438 1.01232563 1.01232063 1.01233562 1.01233562\n",
      " 1.01234812 1.01234687 1.01233938 1.01232937 1.01233062 1.01233188\n",
      " 1.01233687 1.01234687 1.01232437 1.01235063 1.01233687 1.01232813\n",
      " 1.01233313 1.01233438]\n",
      "[1.02232937 1.02233438 1.02232563 1.02232063 1.02233562 1.02233562\n",
      " 1.02234812 1.02234687 1.02233938 1.02232937 1.02233062 1.02233188\n",
      " 1.02233687 1.02234687 1.02232437 1.02235063 1.02233687 1.02232813\n",
      " 1.02233313 1.02233438]\n",
      "[1.03232937 1.03233438 1.03232563 1.03232063 1.03233562 1.03233562\n",
      " 1.03234812 1.03234687 1.03233938 1.03232937 1.03233062 1.03233188\n",
      " 1.03233687 1.03234687 1.03232437 1.03235063 1.03233687 1.03232813\n",
      " 1.03233313 1.03233438]\n",
      "[1.04232938 1.04233438 1.04232563 1.04232063 1.04233562 1.04233562\n",
      " 1.04234812 1.04234688 1.04233938 1.04232938 1.04233062 1.04233188\n",
      " 1.04233687 1.04234688 1.04232437 1.04235063 1.04233687 1.04232813\n",
      " 1.04233313 1.04233438]\n",
      "[1.05232938 1.05233438 1.05232563 1.05232063 1.05233562 1.05233562\n",
      " 1.05234812 1.05234688 1.05233938 1.05232938 1.05233062 1.05233188\n",
      " 1.05233687 1.05234688 1.05232437 1.05235063 1.05233687 1.05232813\n",
      " 1.05233313 1.05233438]\n",
      "[1.06232938 1.06233438 1.06232563 1.06232063 1.06233563 1.06233563\n",
      " 1.06234812 1.06234688 1.06233938 1.06232938 1.06233062 1.06233188\n",
      " 1.06233687 1.06234688 1.06232437 1.06235063 1.06233687 1.06232813\n",
      " 1.06233313 1.06233438]\n",
      "[1.07232938 1.07233438 1.07232563 1.07232063 1.07233563 1.07233563\n",
      " 1.07234812 1.07234688 1.07233938 1.07232938 1.07233062 1.07233188\n",
      " 1.07233687 1.07234688 1.07232437 1.07235063 1.07233687 1.07232813\n",
      " 1.07233313 1.07233438]\n",
      "[1.08232938 1.08233438 1.08232563 1.08232063 1.08233563 1.08233563\n",
      " 1.08234812 1.08234688 1.08233938 1.08232938 1.08233062 1.08233188\n",
      " 1.08233687 1.08234688 1.08232438 1.08235063 1.08233687 1.08232813\n",
      " 1.08233313 1.08233438]\n",
      "[1.09232938 1.09233438 1.09232563 1.09232063 1.09233563 1.09233563\n",
      " 1.09234813 1.09234688 1.09233938 1.09232938 1.09233062 1.09233188\n",
      " 1.09233687 1.09234688 1.09232438 1.09235063 1.09233687 1.09232813\n",
      " 1.09233313 1.09233438]\n",
      "[1.10232938 1.10233438 1.10232563 1.10232063 1.10233563 1.10233563\n",
      " 1.10234813 1.10234688 1.10233938 1.10232938 1.10233063 1.10233188\n",
      " 1.10233687 1.10234688 1.10232438 1.10235063 1.10233687 1.10232813\n",
      " 1.10233313 1.10233438]\n",
      "[1.11232938 1.11233438 1.11232563 1.11232063 1.11233563 1.11233563\n",
      " 1.11234813 1.11234688 1.11233938 1.11232938 1.11233063 1.11233188\n",
      " 1.11233688 1.11234688 1.11232438 1.11235063 1.11233688 1.11232813\n",
      " 1.11233313 1.11233438]\n",
      "[1.12232938 1.12233438 1.12232563 1.12232063 1.12233563 1.12233563\n",
      " 1.12234813 1.12234688 1.12233938 1.12232938 1.12233063 1.12233188\n",
      " 1.12233688 1.12234688 1.12232438 1.12235063 1.12233688 1.12232813\n",
      " 1.12233313 1.12233438]\n",
      "[1.13232938 1.13233438 1.13232563 1.13232063 1.13233563 1.13233563\n",
      " 1.13234813 1.13234688 1.13233938 1.13232938 1.13233063 1.13233188\n",
      " 1.13233688 1.13234688 1.13232438 1.13235063 1.13233688 1.13232813\n",
      " 1.13233313 1.13233438]\n",
      "[1.14232938 1.14233438 1.14232563 1.14232063 1.14233563 1.14233563\n",
      " 1.14234813 1.14234688 1.14233938 1.14232938 1.14233063 1.14233188\n",
      " 1.14233688 1.14234688 1.14232438 1.14235063 1.14233688 1.14232813\n",
      " 1.14233313 1.14233438]\n",
      "[1.15232938 1.15233438 1.15232563 1.15232063 1.15233563 1.15233563\n",
      " 1.15234813 1.15234688 1.15233938 1.15232938 1.15233063 1.15233188\n",
      " 1.15233688 1.15234688 1.15232438 1.15235063 1.15233688 1.15232813\n",
      " 1.15233313 1.15233438]\n",
      "[1.16232938 1.16233438 1.16232563 1.16232063 1.16233563 1.16233563\n",
      " 1.16234813 1.16234688 1.16233938 1.16232938 1.16233063 1.16233188\n",
      " 1.16233688 1.16234688 1.16232438 1.16235063 1.16233688 1.16232813\n",
      " 1.16233313 1.16233438]\n",
      "[1.17232938 1.17233438 1.17232563 1.17232063 1.17233563 1.17233563\n",
      " 1.17234813 1.17234688 1.17233938 1.17232938 1.17233063 1.17233188\n",
      " 1.17233688 1.17234688 1.17232438 1.17235063 1.17233688 1.17232813\n",
      " 1.17233313 1.17233438]\n",
      "[1.18232938 1.18233438 1.18232563 1.18232063 1.18233563 1.18233563\n",
      " 1.18234813 1.18234688 1.18233938 1.18232938 1.18233063 1.18233188\n",
      " 1.18233688 1.18234688 1.18232438 1.18235063 1.18233688 1.18232813\n",
      " 1.18233313 1.18233438]\n",
      "[1.19232938 1.19233438 1.19232563 1.19232063 1.19233563 1.19233563\n",
      " 1.19234813 1.19234688 1.19233938 1.19232938 1.19233063 1.19233188\n",
      " 1.19233688 1.19234688 1.19232438 1.19235063 1.19233688 1.19232813\n",
      " 1.19233313 1.19233438]\n",
      "[1.20232938 1.20233438 1.20232563 1.20232063 1.20233563 1.20233563\n",
      " 1.20234813 1.20234688 1.20233938 1.20232938 1.20233063 1.20233188\n",
      " 1.20233688 1.20234688 1.20232438 1.20235063 1.20233688 1.20232813\n",
      " 1.20233313 1.20233438]\n"
     ]
    },
    {
     "name": "stdout",
     "output_type": "stream",
     "text": [
      "[1.21232938 1.21233438 1.21232563 1.21232063 1.21233563 1.21233563\n",
      " 1.21234813 1.21234688 1.21233938 1.21232938 1.21233063 1.21233188\n",
      " 1.21233688 1.21234688 1.21232438 1.21235063 1.21233688 1.21232813\n",
      " 1.21233313 1.21233438]\n",
      "[1.22232938 1.22233438 1.22232563 1.22232063 1.22233563 1.22233563\n",
      " 1.22234813 1.22234688 1.22233938 1.22232938 1.22233063 1.22233188\n",
      " 1.22233688 1.22234688 1.22232438 1.22235063 1.22233688 1.22232813\n",
      " 1.22233313 1.22233438]\n",
      "[1.23232938 1.23233438 1.23232563 1.23232063 1.23233563 1.23233563\n",
      " 1.23234813 1.23234688 1.23233938 1.23232938 1.23233063 1.23233188\n",
      " 1.23233688 1.23234688 1.23232438 1.23235063 1.23233688 1.23232813\n",
      " 1.23233313 1.23233438]\n",
      "[1.24232938 1.24233438 1.24232563 1.24232063 1.24233563 1.24233563\n",
      " 1.24234813 1.24234688 1.24233938 1.24232938 1.24233063 1.24233188\n",
      " 1.24233688 1.24234688 1.24232438 1.24235063 1.24233688 1.24232813\n",
      " 1.24233313 1.24233438]\n",
      "[1.25232938 1.25233438 1.25232563 1.25232063 1.25233563 1.25233563\n",
      " 1.25234813 1.25234688 1.25233938 1.25232938 1.25233063 1.25233188\n",
      " 1.25233688 1.25234688 1.25232438 1.25235063 1.25233688 1.25232813\n",
      " 1.25233313 1.25233438]\n",
      "[1.26232938 1.26233438 1.26232563 1.26232063 1.26233563 1.26233563\n",
      " 1.26234813 1.26234688 1.26233938 1.26232938 1.26233063 1.26233188\n",
      " 1.26233688 1.26234688 1.26232438 1.26235063 1.26233688 1.26232813\n",
      " 1.26233313 1.26233438]\n",
      "[1.27232938 1.27233438 1.27232563 1.27232063 1.27233563 1.27233563\n",
      " 1.27234813 1.27234688 1.27233938 1.27232938 1.27233063 1.27233188\n",
      " 1.27233688 1.27234688 1.27232438 1.27235063 1.27233688 1.27232813\n",
      " 1.27233313 1.27233438]\n",
      "[1.28232938 1.28233438 1.28232563 1.28232063 1.28233563 1.28233563\n",
      " 1.28234813 1.28234688 1.28233938 1.28232938 1.28233063 1.28233188\n",
      " 1.28233688 1.28234688 1.28232438 1.28235063 1.28233688 1.28232813\n",
      " 1.28233313 1.28233438]\n",
      "[1.29232938 1.29233438 1.29232563 1.29232063 1.29233563 1.29233563\n",
      " 1.29234813 1.29234688 1.29233938 1.29232938 1.29233063 1.29233188\n",
      " 1.29233688 1.29234688 1.29232438 1.29235063 1.29233688 1.29232813\n",
      " 1.29233313 1.29233438]\n",
      "[1.30232938 1.30233438 1.30232563 1.30232063 1.30233563 1.30233563\n",
      " 1.30234813 1.30234688 1.30233938 1.30232938 1.30233063 1.30233188\n",
      " 1.30233688 1.30234688 1.30232438 1.30235063 1.30233688 1.30232813\n",
      " 1.30233313 1.30233438]\n",
      "[1.31232938 1.31233438 1.31232563 1.31232063 1.31233563 1.31233563\n",
      " 1.31234813 1.31234688 1.31233938 1.31232938 1.31233063 1.31233188\n",
      " 1.31233688 1.31234688 1.31232438 1.31235063 1.31233688 1.31232813\n",
      " 1.31233313 1.31233438]\n",
      "[1.32232938 1.32233438 1.32232563 1.32232063 1.32233563 1.32233563\n",
      " 1.32234813 1.32234688 1.32233938 1.32232938 1.32233063 1.32233188\n",
      " 1.32233688 1.32234688 1.32232438 1.32235063 1.32233688 1.32232813\n",
      " 1.32233313 1.32233438]\n",
      "[1.33232938 1.33233438 1.33232563 1.33232063 1.33233563 1.33233563\n",
      " 1.33234813 1.33234688 1.33233938 1.33232938 1.33233063 1.33233188\n",
      " 1.33233688 1.33234688 1.33232438 1.33235063 1.33233688 1.33232813\n",
      " 1.33233313 1.33233438]\n",
      "[1.34232938 1.34233438 1.34232563 1.34232063 1.34233563 1.34233563\n",
      " 1.34234813 1.34234688 1.34233938 1.34232938 1.34233063 1.34233188\n",
      " 1.34233688 1.34234688 1.34232438 1.34235063 1.34233688 1.34232813\n",
      " 1.34233313 1.34233438]\n",
      "[1.35232938 1.35233438 1.35232563 1.35232063 1.35233563 1.35233563\n",
      " 1.35234813 1.35234688 1.35233938 1.35232938 1.35233063 1.35233188\n",
      " 1.35233688 1.35234688 1.35232438 1.35235063 1.35233688 1.35232813\n",
      " 1.35233313 1.35233438]\n",
      "[1.36232938 1.36233438 1.36232563 1.36232063 1.36233563 1.36233563\n",
      " 1.36234813 1.36234688 1.36233938 1.36232938 1.36233063 1.36233188\n",
      " 1.36233688 1.36234688 1.36232438 1.36235063 1.36233688 1.36232813\n",
      " 1.36233313 1.36233438]\n",
      "[1.37232938 1.37233438 1.37232563 1.37232063 1.37233563 1.37233563\n",
      " 1.37234813 1.37234688 1.37233938 1.37232938 1.37233063 1.37233188\n",
      " 1.37233688 1.37234688 1.37232438 1.37235063 1.37233688 1.37232813\n",
      " 1.37233313 1.37233438]\n",
      "[1.38232938 1.38233438 1.38232563 1.38232063 1.38233563 1.38233563\n",
      " 1.38234813 1.38234688 1.38233938 1.38232938 1.38233063 1.38233188\n",
      " 1.38233688 1.38234688 1.38232438 1.38235063 1.38233688 1.38232813\n",
      " 1.38233313 1.38233438]\n",
      "[1.39232938 1.39233438 1.39232563 1.39232063 1.39233563 1.39233563\n",
      " 1.39234813 1.39234688 1.39233938 1.39232938 1.39233063 1.39233188\n",
      " 1.39233688 1.39234688 1.39232438 1.39235063 1.39233688 1.39232813\n",
      " 1.39233313 1.39233438]\n",
      "[1.40232938 1.40233438 1.40232563 1.40232063 1.40233563 1.40233563\n",
      " 1.40234813 1.40234688 1.40233938 1.40232938 1.40233063 1.40233188\n",
      " 1.40233688 1.40234688 1.40232438 1.40235063 1.40233688 1.40232813\n",
      " 1.40233313 1.40233438]\n",
      "[1.41232938 1.41233438 1.41232563 1.41232063 1.41233563 1.41233563\n",
      " 1.41234813 1.41234688 1.41233938 1.41232938 1.41233063 1.41233188\n",
      " 1.41233688 1.41234688 1.41232438 1.41235063 1.41233688 1.41232813\n",
      " 1.41233313 1.41233438]\n",
      "[1.42232938 1.42233438 1.42232563 1.42232063 1.42233563 1.42233563\n",
      " 1.42234813 1.42234688 1.42233938 1.42232938 1.42233063 1.42233188\n",
      " 1.42233688 1.42234688 1.42232438 1.42235063 1.42233688 1.42232813\n",
      " 1.42233313 1.42233438]\n",
      "[1.43232938 1.43233438 1.43232563 1.43232063 1.43233563 1.43233563\n",
      " 1.43234813 1.43234688 1.43233938 1.43232938 1.43233063 1.43233188\n",
      " 1.43233688 1.43234688 1.43232438 1.43235063 1.43233688 1.43232813\n",
      " 1.43233313 1.43233438]\n",
      "[1.44232938 1.44233438 1.44232563 1.44232063 1.44233563 1.44233563\n",
      " 1.44234813 1.44234688 1.44233938 1.44232938 1.44233063 1.44233188\n",
      " 1.44233688 1.44234688 1.44232438 1.44235063 1.44233688 1.44232813\n",
      " 1.44233313 1.44233438]\n",
      "[1.45232938 1.45233438 1.45232563 1.45232063 1.45233563 1.45233563\n",
      " 1.45234813 1.45234688 1.45233938 1.45232938 1.45233063 1.45233188\n",
      " 1.45233688 1.45234688 1.45232438 1.45235063 1.45233688 1.45232813\n",
      " 1.45233313 1.45233438]\n",
      "[1.46232938 1.46233438 1.46232563 1.46232063 1.46233563 1.46233563\n",
      " 1.46234813 1.46234688 1.46233938 1.46232938 1.46233063 1.46233188\n",
      " 1.46233688 1.46234688 1.46232438 1.46235063 1.46233688 1.46232813\n",
      " 1.46233313 1.46233438]\n",
      "[1.47232938 1.47233438 1.47232563 1.47232063 1.47233563 1.47233563\n",
      " 1.47234813 1.47234688 1.47233938 1.47232938 1.47233063 1.47233188\n",
      " 1.47233688 1.47234688 1.47232438 1.47235063 1.47233688 1.47232813\n",
      " 1.47233313 1.47233438]\n",
      "[1.48232938 1.48233438 1.48232563 1.48232063 1.48233563 1.48233563\n",
      " 1.48234813 1.48234688 1.48233938 1.48232938 1.48233063 1.48233188\n",
      " 1.48233688 1.48234688 1.48232438 1.48235063 1.48233688 1.48232813\n",
      " 1.48233313 1.48233438]\n",
      "[1.49232938 1.49233438 1.49232563 1.49232063 1.49233563 1.49233563\n",
      " 1.49234813 1.49234688 1.49233938 1.49232938 1.49233063 1.49233188\n",
      " 1.49233688 1.49234688 1.49232438 1.49235063 1.49233688 1.49232813\n",
      " 1.49233313 1.49233438]\n",
      "[1.50232938 1.50233438 1.50232563 1.50232063 1.50233563 1.50233563\n",
      " 1.50234813 1.50234688 1.50233938 1.50232938 1.50233063 1.50233188\n",
      " 1.50233688 1.50234688 1.50232438 1.50235063 1.50233688 1.50232813\n",
      " 1.50233313 1.50233438]\n",
      "[1.51232938 1.51233438 1.51232563 1.51232063 1.51233563 1.51233563\n",
      " 1.51234813 1.51234688 1.51233938 1.51232938 1.51233063 1.51233188\n",
      " 1.51233688 1.51234688 1.51232438 1.51235063 1.51233688 1.51232813\n",
      " 1.51233313 1.51233438]\n",
      "[1.52232938 1.52233438 1.52232563 1.52232063 1.52233563 1.52233563\n",
      " 1.52234813 1.52234688 1.52233938 1.52232938 1.52233063 1.52233188\n",
      " 1.52233688 1.52234688 1.52232438 1.52235063 1.52233688 1.52232813\n",
      " 1.52233313 1.52233438]\n",
      "[1.53232938 1.53233438 1.53232563 1.53232063 1.53233563 1.53233563\n",
      " 1.53234813 1.53234688 1.53233938 1.53232938 1.53233063 1.53233188\n",
      " 1.53233688 1.53234688 1.53232438 1.53235063 1.53233688 1.53232813\n",
      " 1.53233313 1.53233438]\n",
      "[1.54232938 1.54233438 1.54232563 1.54232063 1.54233563 1.54233563\n",
      " 1.54234813 1.54234688 1.54233938 1.54232938 1.54233063 1.54233188\n",
      " 1.54233688 1.54234688 1.54232438 1.54235063 1.54233688 1.54232813\n",
      " 1.54233313 1.54233438]\n",
      "[1.55232938 1.55233438 1.55232563 1.55232063 1.55233563 1.55233563\n",
      " 1.55234813 1.55234688 1.55233938 1.55232938 1.55233063 1.55233188\n",
      " 1.55233688 1.55234688 1.55232438 1.55235063 1.55233688 1.55232813\n",
      " 1.55233313 1.55233438]\n",
      "[1.56232938 1.56233438 1.56232563 1.56232063 1.56233563 1.56233563\n",
      " 1.56234813 1.56234688 1.56233938 1.56232938 1.56233063 1.56233188\n",
      " 1.56233688 1.56234688 1.56232438 1.56235063 1.56233688 1.56232813\n",
      " 1.56233313 1.56233438]\n",
      "[1.57232938 1.57233438 1.57232563 1.57232063 1.57233563 1.57233563\n",
      " 1.57234813 1.57234688 1.57233938 1.57232938 1.57233063 1.57233188\n",
      " 1.57233688 1.57234688 1.57232438 1.57235063 1.57233688 1.57232813\n",
      " 1.57233313 1.57233438]\n"
     ]
    },
    {
     "name": "stdout",
     "output_type": "stream",
     "text": [
      "[1.58232938 1.58233438 1.58232563 1.58232063 1.58233563 1.58233563\n",
      " 1.58234813 1.58234688 1.58233938 1.58232938 1.58233063 1.58233188\n",
      " 1.58233688 1.58234688 1.58232438 1.58235063 1.58233688 1.58232813\n",
      " 1.58233313 1.58233438]\n",
      "[1.59232938 1.59233438 1.59232563 1.59232063 1.59233563 1.59233563\n",
      " 1.59234813 1.59234688 1.59233938 1.59232938 1.59233063 1.59233188\n",
      " 1.59233688 1.59234688 1.59232438 1.59235063 1.59233688 1.59232813\n",
      " 1.59233313 1.59233438]\n",
      "[1.60232938 1.60233438 1.60232563 1.60232063 1.60233563 1.60233563\n",
      " 1.60234813 1.60234688 1.60233938 1.60232938 1.60233063 1.60233188\n",
      " 1.60233688 1.60234688 1.60232438 1.60235063 1.60233688 1.60232813\n",
      " 1.60233313 1.60233438]\n",
      "[1.61232938 1.61233438 1.61232563 1.61232063 1.61233563 1.61233563\n",
      " 1.61234813 1.61234688 1.61233938 1.61232938 1.61233063 1.61233188\n",
      " 1.61233688 1.61234688 1.61232438 1.61235063 1.61233688 1.61232813\n",
      " 1.61233313 1.61233438]\n",
      "[1.62232938 1.62233438 1.62232563 1.62232063 1.62233563 1.62233563\n",
      " 1.62234813 1.62234688 1.62233938 1.62232938 1.62233063 1.62233188\n",
      " 1.62233688 1.62234688 1.62232438 1.62235063 1.62233688 1.62232813\n",
      " 1.62233313 1.62233438]\n",
      "[1.63232938 1.63233438 1.63232563 1.63232063 1.63233563 1.63233563\n",
      " 1.63234813 1.63234688 1.63233938 1.63232938 1.63233063 1.63233188\n",
      " 1.63233688 1.63234688 1.63232438 1.63235063 1.63233688 1.63232813\n",
      " 1.63233313 1.63233438]\n",
      "[1.64232938 1.64233438 1.64232563 1.64232063 1.64233563 1.64233563\n",
      " 1.64234813 1.64234688 1.64233938 1.64232938 1.64233063 1.64233188\n",
      " 1.64233688 1.64234688 1.64232438 1.64235063 1.64233688 1.64232813\n",
      " 1.64233313 1.64233438]\n",
      "[1.65232938 1.65233438 1.65232563 1.65232063 1.65233563 1.65233563\n",
      " 1.65234813 1.65234688 1.65233938 1.65232938 1.65233063 1.65233188\n",
      " 1.65233688 1.65234688 1.65232438 1.65235063 1.65233688 1.65232813\n",
      " 1.65233313 1.65233438]\n",
      "[1.66232938 1.66233438 1.66232563 1.66232063 1.66233563 1.66233563\n",
      " 1.66234813 1.66234688 1.66233938 1.66232938 1.66233063 1.66233188\n",
      " 1.66233688 1.66234688 1.66232438 1.66235063 1.66233688 1.66232813\n",
      " 1.66233313 1.66233438]\n",
      "[1.67232938 1.67233438 1.67232563 1.67232063 1.67233563 1.67233563\n",
      " 1.67234813 1.67234688 1.67233938 1.67232938 1.67233063 1.67233188\n",
      " 1.67233688 1.67234688 1.67232438 1.67235063 1.67233688 1.67232813\n",
      " 1.67233313 1.67233438]\n",
      "[1.68232938 1.68233438 1.68232563 1.68232063 1.68233563 1.68233563\n",
      " 1.68234813 1.68234688 1.68233938 1.68232938 1.68233063 1.68233188\n",
      " 1.68233688 1.68234688 1.68232438 1.68235063 1.68233688 1.68232813\n",
      " 1.68233313 1.68233438]\n",
      "[1.69232938 1.69233438 1.69232563 1.69232063 1.69233563 1.69233563\n",
      " 1.69234813 1.69234688 1.69233938 1.69232938 1.69233063 1.69233188\n",
      " 1.69233688 1.69234688 1.69232438 1.69235063 1.69233688 1.69232813\n",
      " 1.69233313 1.69233438]\n",
      "[1.70232938 1.70233438 1.70232563 1.70232063 1.70233563 1.70233563\n",
      " 1.70234813 1.70234688 1.70233938 1.70232938 1.70233063 1.70233188\n",
      " 1.70233688 1.70234688 1.70232438 1.70235063 1.70233688 1.70232813\n",
      " 1.70233313 1.70233438]\n",
      "[1.71232938 1.71233438 1.71232563 1.71232063 1.71233563 1.71233563\n",
      " 1.71234813 1.71234688 1.71233938 1.71232938 1.71233063 1.71233188\n",
      " 1.71233688 1.71234688 1.71232438 1.71235063 1.71233688 1.71232813\n",
      " 1.71233313 1.71233438]\n",
      "[1.72232938 1.72233438 1.72232563 1.72232063 1.72233563 1.72233563\n",
      " 1.72234813 1.72234688 1.72233938 1.72232938 1.72233063 1.72233188\n",
      " 1.72233688 1.72234688 1.72232438 1.72235063 1.72233688 1.72232813\n",
      " 1.72233313 1.72233438]\n",
      "[1.73232938 1.73233438 1.73232563 1.73232063 1.73233563 1.73233563\n",
      " 1.73234813 1.73234688 1.73233938 1.73232938 1.73233063 1.73233188\n",
      " 1.73233688 1.73234688 1.73232438 1.73235063 1.73233688 1.73232813\n",
      " 1.73233313 1.73233438]\n",
      "[1.74232938 1.74233438 1.74232563 1.74232063 1.74233563 1.74233563\n",
      " 1.74234813 1.74234688 1.74233938 1.74232938 1.74233063 1.74233188\n",
      " 1.74233688 1.74234688 1.74232438 1.74235063 1.74233688 1.74232813\n",
      " 1.74233313 1.74233438]\n",
      "[1.75232938 1.75233438 1.75232563 1.75232063 1.75233563 1.75233563\n",
      " 1.75234813 1.75234688 1.75233938 1.75232938 1.75233063 1.75233188\n",
      " 1.75233688 1.75234688 1.75232438 1.75235063 1.75233688 1.75232813\n",
      " 1.75233313 1.75233438]\n",
      "[1.76232938 1.76233438 1.76232563 1.76232063 1.76233563 1.76233563\n",
      " 1.76234813 1.76234688 1.76233938 1.76232938 1.76233063 1.76233188\n",
      " 1.76233688 1.76234688 1.76232438 1.76235063 1.76233688 1.76232813\n",
      " 1.76233313 1.76233438]\n",
      "[1.77232938 1.77233438 1.77232563 1.77232063 1.77233563 1.77233563\n",
      " 1.77234813 1.77234688 1.77233938 1.77232938 1.77233063 1.77233188\n",
      " 1.77233688 1.77234688 1.77232438 1.77235063 1.77233688 1.77232813\n",
      " 1.77233313 1.77233438]\n",
      "[1.78232938 1.78233438 1.78232563 1.78232063 1.78233563 1.78233563\n",
      " 1.78234813 1.78234688 1.78233938 1.78232938 1.78233063 1.78233188\n",
      " 1.78233688 1.78234688 1.78232438 1.78235063 1.78233688 1.78232813\n",
      " 1.78233313 1.78233438]\n",
      "[1.79232938 1.79233438 1.79232563 1.79232063 1.79233563 1.79233563\n",
      " 1.79234813 1.79234688 1.79233938 1.79232938 1.79233063 1.79233188\n",
      " 1.79233688 1.79234688 1.79232438 1.79235063 1.79233688 1.79232813\n",
      " 1.79233313 1.79233438]\n",
      "[1.80232938 1.80233438 1.80232563 1.80232063 1.80233563 1.80233563\n",
      " 1.80234813 1.80234688 1.80233938 1.80232938 1.80233063 1.80233188\n",
      " 1.80233688 1.80234688 1.80232438 1.80235063 1.80233688 1.80232813\n",
      " 1.80233313 1.80233438]\n",
      "[1.81232938 1.81233438 1.81232563 1.81232063 1.81233563 1.81233563\n",
      " 1.81234813 1.81234688 1.81233938 1.81232938 1.81233063 1.81233188\n",
      " 1.81233688 1.81234688 1.81232438 1.81235063 1.81233688 1.81232813\n",
      " 1.81233313 1.81233438]\n",
      "[1.82232938 1.82233438 1.82232563 1.82232063 1.82233563 1.82233563\n",
      " 1.82234813 1.82234688 1.82233938 1.82232938 1.82233063 1.82233188\n",
      " 1.82233688 1.82234688 1.82232438 1.82235063 1.82233688 1.82232813\n",
      " 1.82233313 1.82233438]\n",
      "[1.83232938 1.83233438 1.83232563 1.83232063 1.83233563 1.83233563\n",
      " 1.83234813 1.83234688 1.83233938 1.83232938 1.83233063 1.83233188\n",
      " 1.83233688 1.83234688 1.83232438 1.83235063 1.83233688 1.83232813\n",
      " 1.83233313 1.83233438]\n",
      "[1.84232938 1.84233438 1.84232563 1.84232063 1.84233563 1.84233563\n",
      " 1.84234813 1.84234688 1.84233938 1.84232938 1.84233063 1.84233188\n",
      " 1.84233688 1.84234688 1.84232438 1.84235063 1.84233688 1.84232813\n",
      " 1.84233313 1.84233438]\n",
      "[1.85232938 1.85233438 1.85232563 1.85232063 1.85233563 1.85233563\n",
      " 1.85234813 1.85234688 1.85233938 1.85232938 1.85233063 1.85233188\n",
      " 1.85233688 1.85234688 1.85232438 1.85235063 1.85233688 1.85232813\n",
      " 1.85233313 1.85233438]\n",
      "[1.86232938 1.86233438 1.86232563 1.86232063 1.86233563 1.86233563\n",
      " 1.86234813 1.86234688 1.86233938 1.86232938 1.86233063 1.86233188\n",
      " 1.86233688 1.86234688 1.86232438 1.86235063 1.86233688 1.86232813\n",
      " 1.86233313 1.86233438]\n",
      "[1.87232938 1.87233438 1.87232563 1.87232063 1.87233563 1.87233563\n",
      " 1.87234813 1.87234688 1.87233938 1.87232938 1.87233063 1.87233188\n",
      " 1.87233688 1.87234688 1.87232438 1.87235063 1.87233688 1.87232813\n",
      " 1.87233313 1.87233438]\n",
      "[1.88232938 1.88233438 1.88232563 1.88232063 1.88233563 1.88233563\n",
      " 1.88234813 1.88234688 1.88233938 1.88232938 1.88233063 1.88233188\n",
      " 1.88233688 1.88234688 1.88232438 1.88235063 1.88233688 1.88232813\n",
      " 1.88233313 1.88233438]\n",
      "[1.89232938 1.89233438 1.89232563 1.89232063 1.89233563 1.89233563\n",
      " 1.89234813 1.89234688 1.89233938 1.89232938 1.89233063 1.89233188\n",
      " 1.89233688 1.89234688 1.89232438 1.89235063 1.89233688 1.89232813\n",
      " 1.89233313 1.89233438]\n",
      "[1.90232938 1.90233438 1.90232563 1.90232063 1.90233563 1.90233563\n",
      " 1.90234813 1.90234688 1.90233938 1.90232938 1.90233063 1.90233188\n",
      " 1.90233688 1.90234688 1.90232438 1.90235063 1.90233688 1.90232813\n",
      " 1.90233313 1.90233438]\n",
      "[1.91232938 1.91233438 1.91232563 1.91232063 1.91233563 1.91233563\n",
      " 1.91234813 1.91234688 1.91233938 1.91232938 1.91233063 1.91233188\n",
      " 1.91233688 1.91234688 1.91232438 1.91235063 1.91233688 1.91232813\n",
      " 1.91233313 1.91233438]\n",
      "[1.92232938 1.92233438 1.92232563 1.92232063 1.92233563 1.92233563\n",
      " 1.92234813 1.92234688 1.92233938 1.92232938 1.92233063 1.92233188\n",
      " 1.92233688 1.92234688 1.92232438 1.92235063 1.92233688 1.92232813\n",
      " 1.92233313 1.92233438]\n",
      "[1.93232938 1.93233438 1.93232563 1.93232063 1.93233563 1.93233563\n",
      " 1.93234813 1.93234688 1.93233938 1.93232938 1.93233063 1.93233188\n",
      " 1.93233688 1.93234688 1.93232438 1.93235063 1.93233688 1.93232813\n",
      " 1.93233313 1.93233438]\n",
      "[1.94232938 1.94233438 1.94232563 1.94232063 1.94233563 1.94233563\n",
      " 1.94234813 1.94234688 1.94233938 1.94232938 1.94233063 1.94233188\n",
      " 1.94233688 1.94234688 1.94232438 1.94235063 1.94233688 1.94232813\n",
      " 1.94233313 1.94233438]\n"
     ]
    },
    {
     "name": "stdout",
     "output_type": "stream",
     "text": [
      "[1.95232938 1.95233438 1.95232563 1.95232063 1.95233563 1.95233563\n",
      " 1.95234813 1.95234688 1.95233938 1.95232938 1.95233063 1.95233188\n",
      " 1.95233688 1.95234688 1.95232438 1.95235063 1.95233688 1.95232813\n",
      " 1.95233313 1.95233438]\n",
      "[1.96232938 1.96233438 1.96232563 1.96232063 1.96233563 1.96233563\n",
      " 1.96234813 1.96234688 1.96233938 1.96232938 1.96233063 1.96233188\n",
      " 1.96233688 1.96234688 1.96232438 1.96235063 1.96233688 1.96232813\n",
      " 1.96233313 1.96233438]\n",
      "[1.97232938 1.97233438 1.97232563 1.97232063 1.97233563 1.97233563\n",
      " 1.97234813 1.97234688 1.97233938 1.97232938 1.97233063 1.97233188\n",
      " 1.97233688 1.97234688 1.97232438 1.97235063 1.97233688 1.97232813\n",
      " 1.97233313 1.97233438]\n",
      "[1.98232938 1.98233438 1.98232563 1.98232063 1.98233563 1.98233563\n",
      " 1.98234813 1.98234688 1.98233938 1.98232938 1.98233063 1.98233188\n",
      " 1.98233688 1.98234688 1.98232438 1.98235063 1.98233688 1.98232813\n",
      " 1.98233313 1.98233438]\n",
      "[1.99232938 1.99233438 1.99232563 1.99232063 1.99233563 1.99233563\n",
      " 1.99234813 1.99234688 1.99233938 1.99232938 1.99233063 1.99233188\n",
      " 1.99233688 1.99234688 1.99232438 1.99235063 1.99233688 1.99232813\n",
      " 1.99233313 1.99233438]\n",
      "[2.00232938 2.00233438 2.00232563 2.00232063 2.00233563 2.00233563\n",
      " 2.00234813 2.00234688 2.00233938 2.00232938 2.00233063 2.00233188\n",
      " 2.00233688 2.00234688 2.00232438 2.00235063 2.00233688 2.00232813\n",
      " 2.00233313 2.00233438]\n",
      "[2.01232938 2.01233438 2.01232563 2.01232063 2.01233563 2.01233563\n",
      " 2.01234813 2.01234688 2.01233938 2.01232938 2.01233063 2.01233188\n",
      " 2.01233688 2.01234688 2.01232438 2.01235063 2.01233688 2.01232813\n",
      " 2.01233313 2.01233438]\n",
      "[2.02232938 2.02233438 2.02232563 2.02232063 2.02233563 2.02233563\n",
      " 2.02234813 2.02234688 2.02233938 2.02232938 2.02233063 2.02233188\n",
      " 2.02233688 2.02234688 2.02232438 2.02235063 2.02233688 2.02232813\n",
      " 2.02233313 2.02233438]\n",
      "[2.03232938 2.03233438 2.03232563 2.03232063 2.03233563 2.03233563\n",
      " 2.03234813 2.03234688 2.03233938 2.03232938 2.03233063 2.03233188\n",
      " 2.03233688 2.03234688 2.03232438 2.03235063 2.03233688 2.03232813\n",
      " 2.03233313 2.03233438]\n",
      "[2.04232938 2.04233438 2.04232563 2.04232063 2.04233563 2.04233563\n",
      " 2.04234813 2.04234688 2.04233938 2.04232938 2.04233063 2.04233188\n",
      " 2.04233688 2.04234688 2.04232438 2.04235063 2.04233688 2.04232813\n",
      " 2.04233313 2.04233438]\n",
      "[2.05232938 2.05233438 2.05232563 2.05232063 2.05233563 2.05233563\n",
      " 2.05234813 2.05234688 2.05233938 2.05232938 2.05233063 2.05233188\n",
      " 2.05233688 2.05234688 2.05232438 2.05235063 2.05233688 2.05232813\n",
      " 2.05233313 2.05233438]\n",
      "[2.06232938 2.06233438 2.06232563 2.06232063 2.06233563 2.06233563\n",
      " 2.06234813 2.06234688 2.06233938 2.06232938 2.06233063 2.06233188\n",
      " 2.06233688 2.06234688 2.06232438 2.06235063 2.06233688 2.06232813\n",
      " 2.06233313 2.06233438]\n",
      "[2.07232938 2.07233438 2.07232563 2.07232063 2.07233563 2.07233563\n",
      " 2.07234813 2.07234688 2.07233938 2.07232938 2.07233063 2.07233188\n",
      " 2.07233688 2.07234688 2.07232438 2.07235063 2.07233688 2.07232813\n",
      " 2.07233313 2.07233438]\n",
      "[2.08232938 2.08233438 2.08232563 2.08232063 2.08233563 2.08233563\n",
      " 2.08234813 2.08234688 2.08233938 2.08232938 2.08233063 2.08233188\n",
      " 2.08233688 2.08234688 2.08232438 2.08235063 2.08233688 2.08232813\n",
      " 2.08233313 2.08233438]\n",
      "[2.09232938 2.09233438 2.09232563 2.09232063 2.09233563 2.09233563\n",
      " 2.09234813 2.09234688 2.09233938 2.09232938 2.09233063 2.09233188\n",
      " 2.09233688 2.09234688 2.09232438 2.09235063 2.09233688 2.09232813\n",
      " 2.09233313 2.09233438]\n",
      "[2.10232938 2.10233438 2.10232563 2.10232063 2.10233563 2.10233563\n",
      " 2.10234813 2.10234688 2.10233938 2.10232938 2.10233063 2.10233188\n",
      " 2.10233688 2.10234688 2.10232438 2.10235063 2.10233688 2.10232813\n",
      " 2.10233313 2.10233438]\n",
      "[2.11232938 2.11233438 2.11232563 2.11232063 2.11233563 2.11233563\n",
      " 2.11234813 2.11234688 2.11233938 2.11232938 2.11233063 2.11233188\n",
      " 2.11233688 2.11234688 2.11232438 2.11235063 2.11233688 2.11232813\n",
      " 2.11233313 2.11233438]\n",
      "[2.12232938 2.12233438 2.12232563 2.12232063 2.12233563 2.12233563\n",
      " 2.12234813 2.12234688 2.12233938 2.12232938 2.12233063 2.12233188\n",
      " 2.12233688 2.12234688 2.12232438 2.12235063 2.12233688 2.12232813\n",
      " 2.12233313 2.12233438]\n",
      "[2.13232938 2.13233438 2.13232563 2.13232063 2.13233563 2.13233563\n",
      " 2.13234813 2.13234688 2.13233938 2.13232938 2.13233063 2.13233188\n",
      " 2.13233688 2.13234688 2.13232438 2.13235063 2.13233688 2.13232813\n",
      " 2.13233313 2.13233438]\n"
     ]
    }
   ],
   "source": [
    "###\n",
    "import dimod\n",
    "\n",
    "def modifying(predictions):\n",
    "    \n",
    "    λ = 1e-2\n",
    "    while(λ < 1e1):\n",
    "        W = get_qubo(predictions, y_train, λ)\n",
    "        sampler = dimod.SimulatedAnnealingSampler()\n",
    "        response = sampler.sample_qubo(W, num_reads=10)\n",
    "        weights = list(response.first.sample.values())\n",
    "        λ += .01\n",
    "        if np.isclose(metric(y_train, predict(model_4.estimators_,\n",
    "        weights, X_train)), 1.0, rtol=0.01) and sum(weights)<20:\n",
    "            break \n",
    "    \n",
    "    return response, weights\n",
    "\n",
    "predictions = np.divide(predictions, len(predictions))\n",
    "\n",
    "response, weights = modifying(predictions)\n",
    "#print(response)\n",
    "\n",
    "#print(sum(weights))\n",
    "#print('accuracy (train): %5.2f'%(metric(y_train, predict(model_4.estimators_, weights, X_train))))\n",
    "#print('accuracy (test): %5.2f'%(metric(y_test, predict(model_4.estimators_, weights, X_test))))\n",
    "\n",
    "###\n"
   ]
  },
  {
   "cell_type": "code",
   "execution_count": null,
   "metadata": {},
   "outputs": [],
   "source": [
    "print('accuracy (train): %5.2f'%(metric(y_train, predict(model_4.estimators_, weights, X_train))))\n",
    "print('accuracy (test): %5.2f'%(metric(y_test, predict(model_4.estimators_, weights, X_test))))"
   ]
  },
  {
   "cell_type": "code",
   "execution_count": null,
   "metadata": {
    "ExecuteTime": {
     "end_time": "2019-01-30T23:03:32.559519Z",
     "start_time": "2019-01-30T23:03:32.554979Z"
    },
    "collapsed": true,
    "deletable": false,
    "editable": false,
    "nbgrader": {
     "grade": true,
     "grade_id": "exercise6",
     "locked": true,
     "points": "3",
     "solution": false
    }
   },
   "outputs": [],
   "source": [
    "assert isinstance(response, dimod.sampleset.SampleSet)\n",
    "weights = list(response.first.sample.values())\n",
    "assert sum(weights) < 20\n",
    "assert np.isclose(metric(y_train, predict(model_4.estimators_, weights, X_train)), 1.0, rtol=0.01)"
   ]
  },
  {
   "cell_type": "markdown",
   "metadata": {},
   "source": [
    "In principle, you can do the above optimization on a quantum computer and ideally on larger ensembles. This would eventually lead to a smaller gap between the training and test error, that is, it would lower the variance, although it might sacrifice some of the accuracy."
   ]
  }
 ],
 "metadata": {
  "kernelspec": {
   "display_name": "Python 3",
   "language": "python",
   "name": "python3"
  },
  "language_info": {
   "codemirror_mode": {
    "name": "ipython",
    "version": 3
   },
   "file_extension": ".py",
   "mimetype": "text/x-python",
   "name": "python",
   "nbconvert_exporter": "python",
   "pygments_lexer": "ipython3",
   "version": "3.7.2"
  },
  "varInspector": {
   "cols": {
    "lenName": 16,
    "lenType": 16,
    "lenVar": 40
   },
   "kernels_config": {
    "python": {
     "delete_cmd_postfix": "",
     "delete_cmd_prefix": "del ",
     "library": "var_list.py",
     "varRefreshCmd": "print(var_dic_list())"
    },
    "r": {
     "delete_cmd_postfix": ") ",
     "delete_cmd_prefix": "rm(",
     "library": "var_list.r",
     "varRefreshCmd": "cat(var_dic_list()) "
    }
   },
   "types_to_exclude": [
    "module",
    "function",
    "builtin_function_or_method",
    "instance",
    "_Feature"
   ],
   "window_display": false
  }
 },
 "nbformat": 4,
 "nbformat_minor": 2
}
