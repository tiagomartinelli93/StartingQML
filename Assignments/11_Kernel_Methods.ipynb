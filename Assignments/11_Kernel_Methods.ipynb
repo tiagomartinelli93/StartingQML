{
 "cells": [
  {
   "cell_type": "markdown",
   "metadata": {},
   "source": [
    "Before you begin, execute this cell to import numpy and packages from the D-Wave Ocean suite, and all necessary functions the gate-model framework you are going to use, whether that is the Forest SDK or Qiskit. In the case of Forest SDK, it also starts the qvm and quilc servers."
   ]
  },
  {
   "cell_type": "code",
   "execution_count": 130,
   "metadata": {
    "ExecuteTime": {
     "end_time": "2019-02-01T22:11:42.748085Z",
     "start_time": "2019-02-01T22:11:41.709832Z"
    },
    "deletable": false,
    "editable": false,
    "nbgrader": {
     "grade": false,
     "locked": true,
     "solution": false
    }
   },
   "outputs": [
    {
     "name": "stdout",
     "output_type": "stream",
     "text": [
      "Available frameworks:\n",
      "Forest SDK\n",
      "Qiskit\n",
      "D-Wave Ocean\n"
     ]
    }
   ],
   "source": [
    "%run -i \"assignment_helper.py\""
   ]
  },
  {
   "cell_type": "markdown",
   "metadata": {},
   "source": [
    "# State preparation\n",
    "\n",
    "Preparing a state in a particular encoding can, in itself, give rise to interesting kernels. This is what talked about in the lecture on the interference kernel, and Maria Schuld's guest lecture expands on the idea. Let us work with an easy data set of two vectors, $S = \\{(\\begin{bmatrix}0 \\\\ 1\\end{bmatrix}, 0), (\\begin{bmatrix}\\sqrt{2}/2 \\\\ \\sqrt{2}/2\\end{bmatrix}, 1)\\}$. Let's have a test instance $\\begin{bmatrix}1 \\\\ 0\\end{bmatrix}$. We will build the interference circuit for this.\n",
    "\n",
    "**Exercise 1** (1 point). Create a circuit in your preferred framework that works on four qubits: ancilla, index, data, and class. Put the ancilla and index qubits into a uniform superposition. Prepare and entangle the test instance with the ground state of the ancilla. Put an identity gate on the class qubit. Place your solution in an object called `circuit`. "
   ]
  },
  {
   "cell_type": "code",
   "execution_count": 131,
   "metadata": {
    "ExecuteTime": {
     "end_time": "2019-02-01T23:13:52.771326Z",
     "start_time": "2019-02-01T23:13:52.764645Z"
    }
   },
   "outputs": [
    {
     "name": "stdout",
     "output_type": "stream",
     "text": [
      "[0. +0.j 0.5+0.j 0. +0.j 0.5+0.j 0.5+0.j 0. +0.j 0.5+0.j 0. +0.j 0. +0.j\n",
      " 0. +0.j 0. +0.j 0. +0.j 0. +0.j 0. +0.j 0. +0.j 0. +0.j]\n"
     ]
    },
    {
     "data": {
      "text/html": [
       "<pre style=\"word-wrap: normal;white-space: pre;line-height: 15px;\">               ┌───┐           ░ \n",
       "q19_0: |0>─────┤ H ├──■────────░─\n",
       "          ┌───┐└───┘  │        ░ \n",
       "q19_1: |0>┤ H ├───────┼────────░─\n",
       "          └───┘     ┌─┴─┐┌───┐ ░ \n",
       "q19_2: |0>──────────┤ X ├┤ X ├─░─\n",
       "                    └───┘└───┘ ░ \n",
       "q19_3: |0>─────────────────────░─\n",
       "                               ░ \n",
       " c19_0: 0 ═══════════════════════\n",
       "                                 \n",
       " c19_1: 0 ═══════════════════════\n",
       "                                 \n",
       " c19_2: 0 ═══════════════════════\n",
       "                                 \n",
       " c19_3: 0 ═══════════════════════\n",
       "                                 </pre>"
      ],
      "text/plain": [
       "<qiskit.tools.visualization._text.TextDrawing at 0x7f73ba6cdc88>"
      ]
     },
     "execution_count": 131,
     "metadata": {},
     "output_type": "execute_result"
    }
   ],
   "source": [
    "from math import pi\n",
    "\n",
    "q = QuantumRegister(4)\n",
    "c = ClassicalRegister(4)\n",
    "\n",
    "ancilla_qubit = q[0]\n",
    "index_qubit = q[1]\n",
    "data_qubit = q[2]\n",
    "class_qubit = q[3]\n",
    "\n",
    "###\n",
    "circuit = QuantumCircuit(q, c)\n",
    "\n",
    "# Put the ancilla and the index qubits into uniform superposition\n",
    "circuit.h(ancilla_qubit)\n",
    "circuit.h(index_qubit)\n",
    "\n",
    "# Prepare the test vector\n",
    "circuit.cx(ancilla_qubit, data_qubit)\n",
    "circuit.x(data_qubit)\n",
    "#circuit.cx(ancilla_qubit, data_qubit)\n",
    "#circuit.u3(pi/2,pi/2,pi/2, data_qubit)\n",
    "#circuit.x(ancilla_qubit)\n",
    "\n",
    "#circuit.iden(class_qubit)\n",
    "circuit.barrier()\n",
    "\n",
    "amplitudes = get_amplitudes(circuit)\n",
    "print(amplitudes)\n",
    "\n",
    "circuit.draw()\n",
    "\n",
    "###"
   ]
  },
  {
   "cell_type": "code",
   "execution_count": 132,
   "metadata": {
    "ExecuteTime": {
     "end_time": "2019-02-01T23:14:15.126345Z",
     "start_time": "2019-02-01T23:14:15.117346Z"
    },
    "deletable": false,
    "editable": false,
    "nbgrader": {
     "grade": true,
     "grade_id": "exercise1",
     "locked": true,
     "points": "1",
     "solution": false
    }
   },
   "outputs": [],
   "source": [
    "amplitudes = get_amplitudes(circuit)\n",
    "assert np.allclose(amplitudes, np.array([0. +0.j, 0.5+0.j, 0. +0.j, 0.5+0.j, 0.5+0.j, 0. +0.j, 0.5+0.j,\n",
    "       0. +0.j, 0. +0.j, 0. +0.j, 0. +0.j, 0. +0.j, 0. +0.j, 0. +0.j, 0. +0.j, 0. +0.j]))"
   ]
  },
  {
   "cell_type": "markdown",
   "metadata": {},
   "source": [
    "**Exercise 2** (1 point). Extend the circuit to prepare the first training instance and entanle it with the excited state of the ancilla and ground state of the index qubit."
   ]
  },
  {
   "cell_type": "code",
   "execution_count": 133,
   "metadata": {
    "ExecuteTime": {
     "end_time": "2019-02-01T23:14:18.235970Z",
     "start_time": "2019-02-01T23:14:18.232241Z"
    }
   },
   "outputs": [
    {
     "name": "stdout",
     "output_type": "stream",
     "text": [
      "[0. +0.j 0. +0.j 0. +0.j 0.5+0.j 0.5+0.j 0.5+0.j 0.5+0.j 0. +0.j 0. +0.j\n",
      " 0. +0.j 0. +0.j 0. +0.j 0. +0.j 0. +0.j 0. +0.j 0. +0.j]\n"
     ]
    },
    {
     "data": {
      "text/html": [
       "<pre style=\"word-wrap: normal;white-space: pre;line-height: 15px;\">               ┌───┐           ░            ░ \n",
       "q19_0: |0>─────┤ H ├──■────────░───■────────░─\n",
       "          ┌───┐└───┘  │        ░   │  ┌───┐ ░ \n",
       "q19_1: |0>┤ H ├───────┼────────░───■──┤ X ├─░─\n",
       "          └───┘     ┌─┴─┐┌───┐ ░ ┌─┴─┐└───┘ ░ \n",
       "q19_2: |0>──────────┤ X ├┤ X ├─░─┤ X ├──────░─\n",
       "                    └───┘└───┘ ░ └───┘      ░ \n",
       "q19_3: |0>─────────────────────░────────────░─\n",
       "                               ░            ░ \n",
       " c19_0: 0 ════════════════════════════════════\n",
       "                                              \n",
       " c19_1: 0 ════════════════════════════════════\n",
       "                                              \n",
       " c19_2: 0 ════════════════════════════════════\n",
       "                                              \n",
       " c19_3: 0 ════════════════════════════════════\n",
       "                                              </pre>"
      ],
      "text/plain": [
       "<qiskit.tools.visualization._text.TextDrawing at 0x7f73b98515c0>"
      ]
     },
     "execution_count": 133,
     "metadata": {},
     "output_type": "execute_result"
    }
   ],
   "source": [
    "###\n",
    "# Prepare the first training vector\n",
    "# [0,1] -> class 0\n",
    "# We can prepare this with a Toffoli\n",
    "circuit.ccx(ancilla_qubit, index_qubit, data_qubit)\n",
    "\n",
    "# Flip the index qubit > moves the first training vector to the \n",
    "    # |0> state of the index qubit\n",
    "circuit.x(index_qubit)\n",
    "circuit.barrier()\n",
    "\n",
    "amplitudes = get_amplitudes(circuit)\n",
    "print(amplitudes)\n",
    "\n",
    "circuit.draw()\n",
    "###\n"
   ]
  },
  {
   "cell_type": "code",
   "execution_count": 134,
   "metadata": {
    "ExecuteTime": {
     "end_time": "2019-02-01T23:14:34.131516Z",
     "start_time": "2019-02-01T23:14:34.123522Z"
    },
    "deletable": false,
    "editable": false,
    "nbgrader": {
     "grade": true,
     "grade_id": "exercise2",
     "locked": true,
     "points": "1",
     "solution": false
    }
   },
   "outputs": [],
   "source": [
    "amplitudes = get_amplitudes(circuit)\n",
    "assert np.allclose(amplitudes, np.array([0. +0.j, 0. +0.j, 0. +0.j, 0.5+0.j, 0.5+0.j, 0.5+0.j, 0.5+0.j,\n",
    "       0. +0.j, 0. +0.j, 0. +0.j, 0. +0.j, 0. +0.j, 0. +0.j, 0. +0.j, 0. +0.j, 0. +0.j]))"
   ]
  },
  {
   "cell_type": "markdown",
   "metadata": {},
   "source": [
    "**Exercise 3** (2 points). Extend the circuit to prepare the second training instance and entangle it with the excited state of the ancilla and the excited of the index qubit."
   ]
  },
  {
   "cell_type": "code",
   "execution_count": 135,
   "metadata": {
    "ExecuteTime": {
     "end_time": "2019-02-01T23:21:19.816704Z",
     "start_time": "2019-02-01T23:21:19.809155Z"
    }
   },
   "outputs": [
    {
     "name": "stdout",
     "output_type": "stream",
     "text": [
      "[ 0. +0.j  0. +0.j  0. +0.j  0.5+0.j  0.5+0.j  0.5+0.j -0.5+0.j  0. +0.j\n",
      "  0. +0.j  0. +0.j  0. +0.j  0. +0.j  0. +0.j  0. +0.j  0. +0.j  0. +0.j]\n"
     ]
    },
    {
     "data": {
      "text/html": [
       "<pre style=\"word-wrap: normal;white-space: pre;line-height: 15px;\">               ┌───┐           ░            ░                              »\n",
       "q19_0: |0>─────┤ H ├──■────────░───■────────░───■──────────────────────────»\n",
       "          ┌───┐└───┘  │        ░   │  ┌───┐ ░   │                          »\n",
       "q19_1: |0>┤ H ├───────┼────────░───■──┤ X ├─░───■────■──────────────────■──»\n",
       "          └───┘     ┌─┴─┐┌───┐ ░ ┌─┴─┐└───┘ ░ ┌─┴─┐┌─┴─┐┌────────────┐┌─┴─┐»\n",
       "q19_2: |0>──────────┤ X ├┤ X ├─░─┤ X ├──────░─┤ X ├┤ X ├┤ Ry(1.5708) ├┤ X ├»\n",
       "                    └───┘└───┘ ░ └───┘      ░ └───┘└───┘└────────────┘└───┘»\n",
       "q19_3: |0>─────────────────────░────────────░──────────────────────────────»\n",
       "                               ░            ░                              »\n",
       " c19_0: 0 ═════════════════════════════════════════════════════════════════»\n",
       "                                                                           »\n",
       " c19_1: 0 ═════════════════════════════════════════════════════════════════»\n",
       "                                                                           »\n",
       " c19_2: 0 ═════════════════════════════════════════════════════════════════»\n",
       "                                                                           »\n",
       " c19_3: 0 ═════════════════════════════════════════════════════════════════»\n",
       "                                                                           »\n",
       "«                                                                   ░ \n",
       "«q19_0: ─────────────────■──────────────────────────────────────────░─\n",
       "«                        │                                          ░ \n",
       "«q19_1: ─────────────────■────■──────────────────■──────────────────░─\n",
       "«       ┌─────────────┐┌─┴─┐┌─┴─┐┌────────────┐┌─┴─┐┌─────────────┐ ░ \n",
       "«q19_2: ┤ Ry(-1.5708) ├┤ X ├┤ X ├┤ Ry(1.5708) ├┤ X ├┤ Ry(-1.5708) ├─░─\n",
       "«       └─────────────┘└───┘└───┘└────────────┘└───┘└─────────────┘ ░ \n",
       "«q19_3: ────────────────────────────────────────────────────────────░─\n",
       "«                                                                   ░ \n",
       "«c19_0: ══════════════════════════════════════════════════════════════\n",
       "«                                                                     \n",
       "«c19_1: ══════════════════════════════════════════════════════════════\n",
       "«                                                                     \n",
       "«c19_2: ══════════════════════════════════════════════════════════════\n",
       "«                                                                     \n",
       "«c19_3: ══════════════════════════════════════════════════════════════\n",
       "«                                                                     </pre>"
      ],
      "text/plain": [
       "<qiskit.tools.visualization._text.TextDrawing at 0x7f73b97f9ef0>"
      ]
     },
     "execution_count": 135,
     "metadata": {},
     "output_type": "execute_result"
    }
   ],
   "source": [
    "###\n",
    "circuit.ccx(ancilla_qubit, index_qubit, data_qubit)\n",
    "circuit.cx(index_qubit, data_qubit)\n",
    "circuit.ry(pi/2, data_qubit)\n",
    "circuit.cx(index_qubit, data_qubit)\n",
    "circuit.ry(-pi/2, data_qubit)\n",
    "circuit.ccx(ancilla_qubit, index_qubit, data_qubit)\n",
    "circuit.cx(index_qubit, data_qubit)\n",
    "circuit.ry(pi/2, data_qubit)\n",
    "circuit.cx(index_qubit, data_qubit)\n",
    "circuit.ry(-pi/2, data_qubit)\n",
    "circuit.barrier()\n",
    "\n",
    "\n",
    "amplitudes = get_amplitudes(circuit)\n",
    "print(amplitudes)\n",
    "\n",
    "circuit.draw()\n",
    "###\n"
   ]
  },
  {
   "cell_type": "code",
   "execution_count": 136,
   "metadata": {
    "ExecuteTime": {
     "end_time": "2019-02-01T23:14:55.188948Z",
     "start_time": "2019-02-01T23:14:55.180967Z"
    },
    "deletable": false,
    "editable": false,
    "nbgrader": {
     "grade": true,
     "grade_id": "exercise3",
     "locked": true,
     "points": "2",
     "solution": false
    }
   },
   "outputs": [],
   "source": [
    "amplitudes = get_amplitudes(circuit)\n",
    "assert np.allclose(amplitudes, np.array([ 0. +0.j,  0. +0.j,  0. +0.j,  0.5+0.j,  0.5+0.j,  0.5+0.j,\n",
    "       -0.5+0.j,  0. +0.j,  0. +0.j,  0. +0.j,  0. +0.j,  0. +0.j, 0. +0.j,  0. +0.j,  0. +0.j,  0. +0.j]))"
   ]
  },
  {
   "cell_type": "markdown",
   "metadata": {},
   "source": [
    "**Exercise 4** (1 point). Finish the state preparation circuit by flipping the class qubit conditioned on the index qubit."
   ]
  },
  {
   "cell_type": "code",
   "execution_count": 137,
   "metadata": {
    "ExecuteTime": {
     "end_time": "2019-02-01T23:21:32.459625Z",
     "start_time": "2019-02-01T23:21:32.456769Z"
    }
   },
   "outputs": [
    {
     "name": "stdout",
     "output_type": "stream",
     "text": [
      "[ 0. +0.j  0. +0.j  0. +0.j  0. +0.j  0.5+0.j  0.5+0.j  0. +0.j  0. +0.j\n",
      "  0. +0.j  0. +0.j  0. +0.j  0.5+0.j  0. +0.j  0. +0.j -0.5+0.j  0. +0.j]\n"
     ]
    },
    {
     "data": {
      "text/html": [
       "<pre style=\"word-wrap: normal;white-space: pre;line-height: 15px;\">               ┌───┐           ░            ░                              »\n",
       "q19_0: |0>─────┤ H ├──■────────░───■────────░───■──────────────────────────»\n",
       "          ┌───┐└───┘  │        ░   │  ┌───┐ ░   │                          »\n",
       "q19_1: |0>┤ H ├───────┼────────░───■──┤ X ├─░───■────■──────────────────■──»\n",
       "          └───┘     ┌─┴─┐┌───┐ ░ ┌─┴─┐└───┘ ░ ┌─┴─┐┌─┴─┐┌────────────┐┌─┴─┐»\n",
       "q19_2: |0>──────────┤ X ├┤ X ├─░─┤ X ├──────░─┤ X ├┤ X ├┤ Ry(1.5708) ├┤ X ├»\n",
       "                    └───┘└───┘ ░ └───┘      ░ └───┘└───┘└────────────┘└───┘»\n",
       "q19_3: |0>─────────────────────░────────────░──────────────────────────────»\n",
       "                               ░            ░                              »\n",
       " c19_0: 0 ═════════════════════════════════════════════════════════════════»\n",
       "                                                                           »\n",
       " c19_1: 0 ═════════════════════════════════════════════════════════════════»\n",
       "                                                                           »\n",
       " c19_2: 0 ═════════════════════════════════════════════════════════════════»\n",
       "                                                                           »\n",
       " c19_3: 0 ═════════════════════════════════════════════════════════════════»\n",
       "                                                                           »\n",
       "«                                                                   ░       ░ \n",
       "«q19_0: ─────────────────■──────────────────────────────────────────░───────░─\n",
       "«                        │                                          ░       ░ \n",
       "«q19_1: ─────────────────■────■──────────────────■──────────────────░───■───░─\n",
       "«       ┌─────────────┐┌─┴─┐┌─┴─┐┌────────────┐┌─┴─┐┌─────────────┐ ░   │   ░ \n",
       "«q19_2: ┤ Ry(-1.5708) ├┤ X ├┤ X ├┤ Ry(1.5708) ├┤ X ├┤ Ry(-1.5708) ├─░───┼───░─\n",
       "«       └─────────────┘└───┘└───┘└────────────┘└───┘└─────────────┘ ░ ┌─┴─┐ ░ \n",
       "«q19_3: ────────────────────────────────────────────────────────────░─┤ X ├─░─\n",
       "«                                                                   ░ └───┘ ░ \n",
       "«c19_0: ══════════════════════════════════════════════════════════════════════\n",
       "«                                                                             \n",
       "«c19_1: ══════════════════════════════════════════════════════════════════════\n",
       "«                                                                             \n",
       "«c19_2: ══════════════════════════════════════════════════════════════════════\n",
       "«                                                                             \n",
       "«c19_3: ══════════════════════════════════════════════════════════════════════\n",
       "«                                                                             </pre>"
      ],
      "text/plain": [
       "<qiskit.tools.visualization._text.TextDrawing at 0x7f73b98c5c50>"
      ]
     },
     "execution_count": 137,
     "metadata": {},
     "output_type": "execute_result"
    }
   ],
   "source": [
    "###\n",
    "# Flip the class label for training vector #2\n",
    "circuit.cx(index_qubit, class_qubit)\n",
    "circuit.barrier()\n",
    "\n",
    "amplitudes = get_amplitudes(circuit)\n",
    "print(amplitudes)\n",
    "\n",
    "circuit.draw()\n",
    "###\n"
   ]
  },
  {
   "cell_type": "code",
   "execution_count": 138,
   "metadata": {
    "ExecuteTime": {
     "end_time": "2019-02-01T23:14:57.653167Z",
     "start_time": "2019-02-01T23:14:57.645745Z"
    },
    "deletable": false,
    "editable": false,
    "nbgrader": {
     "grade": true,
     "grade_id": "exercise4",
     "locked": true,
     "points": "1",
     "solution": false
    }
   },
   "outputs": [],
   "source": [
    "amplitudes = get_amplitudes(circuit)\n",
    "assert np.allclose(amplitudes, np.array([ 0. +0.j,  0. +0.j,  0. +0.j,  0. +0.j,  0.5+0.j,  0.5+0.j,  0. +0.j,  0. +0.j,  0. +0.j,  0. +0.j,  0. +0.j,  0.5+0.j, 0. +0.j,  0. +0.j, -0.5+0.j,  0. +0.j]))"
   ]
  },
  {
   "cell_type": "markdown",
   "metadata": {},
   "source": [
    "# Interference as a kernel\n",
    "\n",
    "**Exercise 5** (1 point). At this point, our state is $\\frac{1}{2\\sqrt{2}}\\sum_{i=0}^1|0\\rangle|i\\rangle(|x_t\\rangle+|x_i\\rangle)|y_i\\rangle+|1\\rangle|i\\rangle(|x_t\\rangle-|x_i\\rangle)|y_i\\rangle$, where $|x_t\\rangle$ is the encoded test instance and $|x_i\\rangle$ is a training instance. Apply the Hadamard gate on the ancilla to apply the interference."
   ]
  },
  {
   "cell_type": "code",
   "execution_count": 139,
   "metadata": {
    "ExecuteTime": {
     "end_time": "2019-02-01T23:21:45.311556Z",
     "start_time": "2019-02-01T23:21:45.308708Z"
    }
   },
   "outputs": [
    {
     "data": {
      "text/plain": [
       "<qiskit.extensions.standard.barrier.Barrier at 0x7f73b9970c88>"
      ]
     },
     "execution_count": 139,
     "metadata": {},
     "output_type": "execute_result"
    }
   ],
   "source": [
    "###\n",
    "circuit.h(q[0])\n",
    "circuit.barrier()\n",
    "###\n"
   ]
  },
  {
   "cell_type": "code",
   "execution_count": 140,
   "metadata": {
    "ExecuteTime": {
     "end_time": "2019-02-01T23:20:05.071236Z",
     "start_time": "2019-02-01T23:20:05.061812Z"
    },
    "collapsed": true,
    "deletable": false,
    "editable": false,
    "nbgrader": {
     "grade": true,
     "grade_id": "exercise5",
     "locked": true,
     "points": "1",
     "solution": false
    }
   },
   "outputs": [],
   "source": [
    "amplitudes = get_amplitudes(circuit)\n",
    "assert np.allclose(amplitudes, np.array([ 0.        +0.j,  0.        +0.j,  0.        +0.j,  0.        +0.j,\n",
    "        0.70710678+0.j,  0.        +0.j,  0.        +0.j,  0.        +0.j,  0.        +0.j,  0.        +0.j,  0.35355339+0.j, -0.35355339+0.j,\n",
    "        0.        +0.j,  0.        +0.j, -0.35355339+0.j, -0.35355339+0.j]))"
   ]
  },
  {
   "cell_type": "markdown",
   "metadata": {},
   "source": [
    "If we measure the ancilla, the outcome probability of observing 0 will be $\\frac{1}{4N}\\sum_{i=1}^N |x_t + x_i|^2$. Performing post-selection on the 0 outcome, we can calculate the kernel and the probability of the test instance belonging to either class."
   ]
  }
 ],
 "metadata": {
  "kernelspec": {
   "display_name": "Python 3 [3.6]",
   "language": "python",
   "name": "python3"
  },
  "language_info": {
   "codemirror_mode": {
    "name": "ipython",
    "version": 3
   },
   "file_extension": ".py",
   "mimetype": "text/x-python",
   "name": "python",
   "nbconvert_exporter": "python",
   "pygments_lexer": "ipython3",
   "version": "3.6.4"
  },
  "varInspector": {
   "cols": {
    "lenName": 16,
    "lenType": 16,
    "lenVar": 40
   },
   "kernels_config": {
    "python": {
     "delete_cmd_postfix": "",
     "delete_cmd_prefix": "del ",
     "library": "var_list.py",
     "varRefreshCmd": "print(var_dic_list())"
    },
    "r": {
     "delete_cmd_postfix": ") ",
     "delete_cmd_prefix": "rm(",
     "library": "var_list.r",
     "varRefreshCmd": "cat(var_dic_list()) "
    }
   },
   "types_to_exclude": [
    "module",
    "function",
    "builtin_function_or_method",
    "instance",
    "_Feature"
   ],
   "window_display": false
  }
 },
 "nbformat": 4,
 "nbformat_minor": 2
}
